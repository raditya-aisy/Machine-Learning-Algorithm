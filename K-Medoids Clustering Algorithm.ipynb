{
  "nbformat": 4,
  "nbformat_minor": 0,
  "metadata": {
    "colab": {
      "provenance": [],
      "authorship_tag": "ABX9TyPayyS8zUoUgEEOyC1jcMFF",
      "include_colab_link": true
    },
    "kernelspec": {
      "name": "python3",
      "display_name": "Python 3"
    },
    "language_info": {
      "name": "python"
    }
  },
  "cells": [
    {
      "cell_type": "markdown",
      "metadata": {
        "id": "view-in-github",
        "colab_type": "text"
      },
      "source": [
        "<a href=\"https://colab.research.google.com/github/raditya-aisy/Machine-Learning-Algorithm/blob/main/K-Medoids%20Clustering%20Algorithm.ipynb\" target=\"_parent\"><img src=\"https://colab.research.google.com/assets/colab-badge.svg\" alt=\"Open In Colab\"/></a>"
      ]
    },
    {
      "cell_type": "markdown",
      "source": [
        "**K-MEDOIDS CLUSTERING ALGORITHM**\n",
        "\n",
        "V2V K-Medoids Clustering dengan skema mengkategorikan posisi mobil.\n",
        "Ketika sebuah mobil bergerak dalam sebuah Platoon, mobil akan bergerak secara berkelompok. Dengan demikian mobil akan dikelompokan berdasarkan jarak. Pada case ini digunakan untuk 2 lajur mobil.\n",
        "\n",
        "\n",
        "Opsional Code :\n",
        "```\n",
        "# import numpy as np\n",
        "from sklearn_extra.cluster import KMedoids\n",
        "import matplotlib.pyplot as plt\n",
        "\n",
        "# Contoh data\n",
        "data = np.array([\n",
        "    [100, 1], [150, 1], [120, 2], [170, 2], [130, 1],\n",
        "    [190, 1], [200, 2], [230, 2], [250, 1], [270, 1],\n",
        "    [280, 2], [300, 2], [320, 1], [340, 1], [360, 2]\n",
        "])\n",
        "\n",
        "# Menentukan jumlah cluster (idealnya sesuai jumlah lajur)\n",
        "k = 2\n",
        "\n",
        "# Menerapkan K-medoids\n",
        "kmedoids = KMedoids(n_clusters=k, random_state=0).fit(data)\n",
        "\n",
        "# Plot data dan medoids\n",
        "plt.scatter(data[:, 0], data[:, 1], c=kmedoids.labels_, cmap='viridis', marker='o')\n",
        "medoids = kmedoids.cluster_centers_\n",
        "plt.scatter(medoids[:, 0], medoids[:, 1], c='red', s=50, marker='x')\n",
        "plt.xlabel('Posisi longitudinal (x)')\n",
        "plt.ylabel('Lajur (y)')\n",
        "plt.title('K-Medoids Clustering Posisi Mobil di Tol')\n",
        "plt.grid(True)\n",
        "plt.show()\n",
        "```\n",
        "\n"
      ],
      "metadata": {
        "id": "8VAZe__fn1c0"
      }
    },
    {
      "cell_type": "code",
      "execution_count": 4,
      "metadata": {
        "colab": {
          "base_uri": "https://localhost:8080/",
          "height": 787
        },
        "id": "NoZdQRG5mJqP",
        "outputId": "e6576574-9eaa-44fe-ff4a-f0c85e4874ab"
      },
      "outputs": [
        {
          "output_type": "stream",
          "name": "stderr",
          "text": [
            "/usr/local/lib/python3.10/dist-packages/sklearn/cluster/_kmeans.py:870: FutureWarning: The default value of `n_init` will change from 10 to 'auto' in 1.4. Set the value of `n_init` explicitly to suppress the warning\n",
            "  warnings.warn(\n"
          ]
        },
        {
          "output_type": "display_data",
          "data": {
            "text/plain": [
              "<Figure size 640x480 with 1 Axes>"
            ],
            "image/png": "[encoded data removed]"
          },
          "metadata": {}
        },
        {
          "output_type": "stream",
          "name": "stdout",
          "text": [
            "Titik [100   1] termasuk dalam Cluster 2\n",
            "Titik [150   1] termasuk dalam Cluster 2\n",
            "Titik [120   2] termasuk dalam Cluster 2\n",
            "Titik [170   2] termasuk dalam Cluster 2\n",
            "Titik [130   1] termasuk dalam Cluster 2\n",
            "Titik [190   1] termasuk dalam Cluster 3\n",
            "Titik [200   2] termasuk dalam Cluster 3\n",
            "Titik [230   2] termasuk dalam Cluster 3\n",
            "Titik [250   1] termasuk dalam Cluster 3\n",
            "Titik [270   1] termasuk dalam Cluster 1\n",
            "Titik [280   2] termasuk dalam Cluster 1\n",
            "Titik [300   2] termasuk dalam Cluster 1\n",
            "Titik [320   1] termasuk dalam Cluster 1\n",
            "Titik [340   1] termasuk dalam Cluster 1\n",
            "Titik [360   2] termasuk dalam Cluster 1\n"
          ]
        }
      ],
      "source": [
        "import numpy as np\n",
        "from sklearn.cluster import KMeans\n",
        "import matplotlib.pyplot as plt\n",
        "\n",
        "# Contoh data\n",
        "data = np.array([\n",
        "    [100, 1], [150, 1], [120, 2], [170, 2], [130, 1],\n",
        "    [190, 1], [200, 2], [230, 2], [250, 1], [270, 1],\n",
        "    [280, 2], [300, 2], [320, 1], [340, 1], [360, 2]\n",
        "])\n",
        "\n",
        "# Mengatur jumlah cluster sesuai jumlah lajur\n",
        "k = 3\n",
        "\n",
        "# Menerapkan K-means clustering\n",
        "kmeans = KMeans(n_clusters=k, random_state=0).fit(data)\n",
        "\n",
        "# Mendapatkan label untuk masing-masing titik\n",
        "labels = kmeans.labels_\n",
        "\n",
        "# Plot data dan centroids\n",
        "plt.scatter(data[:, 0], data[:, 1], c=labels, cmap='viridis', marker='o')\n",
        "centroids = kmeans.cluster_centers_\n",
        "plt.scatter(centroids[:, 0], centroids[:, 1], c='red', s=50, marker='x')\n",
        "plt.xlabel('Posisi longitudinal (x)')\n",
        "plt.ylabel('Lajur (y)')\n",
        "plt.title('Clustering Posisi Mobil di Tol')\n",
        "plt.grid(True)\n",
        "plt.show()\n",
        "\n",
        "# Mencetak data dan cluster yang terkait\n",
        "for idx, label in enumerate(labels):\n",
        "    print(f\"Titik {data[idx]} termasuk dalam Cluster {label + 1}\")\n"
      ]
    },
    {
      "cell_type": "markdown",
      "source": [],
      "metadata": {
        "id": "IcmF22gvn_sg"
      }
    }
  ]
}