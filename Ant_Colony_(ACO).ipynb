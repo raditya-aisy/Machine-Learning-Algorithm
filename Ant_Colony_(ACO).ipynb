{
  "nbformat": 4,
  "nbformat_minor": 0,
  "metadata": {
    "colab": {
      "provenance": [],
      "authorship_tag": "ABX9TyOurlioE14gOiz6KvR7HzWO",
      "include_colab_link": true
    },
    "kernelspec": {
      "name": "python3",
      "display_name": "Python 3"
    },
    "language_info": {
      "name": "python"
    }
  },
  "cells": [
    {
      "cell_type": "markdown",
      "metadata": {
        "id": "view-in-github",
        "colab_type": "text"
      },
      "source": [
        "<a href=\"https://colab.research.google.com/github/raditya-aisy/Machine-Learning-Algorithm/blob/main/Ant_Colony_(ACO).ipynb\" target=\"_parent\"><img src=\"https://colab.research.google.com/assets/colab-badge.svg\" alt=\"Open In Colab\"/></a>"
      ]
    },
    {
      "cell_type": "code",
      "execution_count": 1,
      "metadata": {
        "colab": {
          "base_uri": "https://localhost:8080/"
        },
        "id": "Jv3x11rsGyGH",
        "outputId": "ed682949-1530-4544-ae74-062ee52a5357"
      },
      "outputs": [
        {
          "output_type": "stream",
          "name": "stderr",
          "text": [
            "<ipython-input-1-c5c2ccbc9ab0>:17: RuntimeWarning: divide by zero encountered in divide\n",
            "  probabilities = pheromone[last] ** alpha * ((1.0 / distance[last]) ** beta)\n"
          ]
        },
        {
          "output_type": "stream",
          "name": "stdout",
          "text": [
            "Best path: [3 1 2 0 4]\n",
            "Best length: 0.6940429578546677\n"
          ]
        }
      ],
      "source": [
        "import numpy as np\n",
        "\n",
        "# Tahap 1: Inisialisasi\n",
        "def initialize(ant_count, cities):\n",
        "    pheromone = np.ones((cities, cities)) * 0.1  # Matriks feromon awal\n",
        "    distance = np.random.rand(cities, cities)    # Matriks jarak antar kota\n",
        "    np.fill_diagonal(distance, 0)                # Set jarak dari kota ke kota yang sama menjadi 0\n",
        "    return pheromone, distance\n",
        "\n",
        "# Tahap 2: Pembuatan Solusi\n",
        "def create_solution(pheromone, distance, alpha, beta):\n",
        "    cities = len(distance)\n",
        "    path = np.zeros(cities, dtype=int)\n",
        "    path[0] = np.random.randint(cities)  # Pilih kota awal secara acak\n",
        "    for i in range(1, cities):\n",
        "        last = path[i - 1]\n",
        "        probabilities = pheromone[last] ** alpha * ((1.0 / distance[last]) ** beta)\n",
        "        probabilities[path[:i]] = 0  # Set probabilitas kota yang sudah dikunjungi menjadi 0\n",
        "        probabilities /= probabilities.sum()\n",
        "        path[i] = np.random.choice(cities, p=probabilities)\n",
        "    return path\n",
        "\n",
        "# Tahap 3: Update Feromon\n",
        "def update_pheromone(pheromone, paths, distance):\n",
        "    decay = 0.1  # Faktor peluruhan feromon\n",
        "    pheromone *= (1 - decay)  # Peluruhan feromon\n",
        "    for path in paths:\n",
        "        contribution = 1 / distance[path[:-1], path[1:]].sum()\n",
        "        for i in range(len(path) - 1):\n",
        "            pheromone[path[i], path[i+1]] += contribution\n",
        "    return pheromone\n",
        "\n",
        "# Parameter\n",
        "ant_count = 10\n",
        "cities = 5\n",
        "alpha = 1.0  # Pengaruh feromon\n",
        "beta = 2.0   # Pengaruh keuntungan (invers dari jarak)\n",
        "\n",
        "# Proses\n",
        "pheromone, distance = initialize(ant_count, cities)\n",
        "best_path = None\n",
        "best_length = np.inf\n",
        "\n",
        "# Simulasi\n",
        "for _ in range(100):\n",
        "    paths = [create_solution(pheromone, distance, alpha, beta) for _ in range(ant_count)]\n",
        "    lengths = [distance[p[:-1], p[1:]].sum() for p in paths]\n",
        "    if min(lengths) < best_length:\n",
        "        best_length = min(lengths)\n",
        "        best_path = paths[np.argmin(lengths)]\n",
        "    pheromone = update_pheromone(pheromone, paths, distance)\n",
        "\n",
        "print(\"Best path:\", best_path)\n",
        "print(\"Best length:\", best_length)\n"
      ]
    }
  ]
}