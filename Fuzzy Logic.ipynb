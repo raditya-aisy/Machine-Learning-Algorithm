{
  "nbformat": 4,
  "nbformat_minor": 0,
  "metadata": {
    "colab": {
      "provenance": [],
      "authorship_tag": "ABX9TyOiefCn0elGDGmpNKg1PDcd",
      "include_colab_link": true
    },
    "kernelspec": {
      "name": "python3",
      "display_name": "Python 3"
    },
    "language_info": {
      "name": "python"
    }
  },
  "cells": [
    {
      "cell_type": "markdown",
      "metadata": {
        "id": "view-in-github",
        "colab_type": "text"
      },
      "source": [
        "<a href=\"https://colab.research.google.com/github/raditya-aisy/Machine-Learning-Algorithm/blob/main/Fuzzy_Logic.ipynb\" target=\"_parent\"><img src=\"https://colab.research.google.com/assets/colab-badge.svg\" alt=\"Open In Colab\"/></a>"
      ]
    },
    {
      "cell_type": "markdown",
      "source": [
        "Fuzzy Logic dalam pemrograman dapat digunakan untuk menyelesaikan masalah di mana input dan keputusan tidak hanya hitam atau putih, melainkan memiliki berbagai tingkat kebenaran. Logika fuzzy sangat berguna dalam kasus-kasus di mana keputusan bergantung pada variabel yang tidak pasti atau ambigu. Berikut adalah langkah-langkah umum untuk mengimplementasikan sistem logika fuzzy:\n",
        "\n",
        "Langkah-langkah Implementasi Sistem Logika Fuzzy:\n",
        "1. Definisi Variabel: Tentukan variabel yang akan digunakan dalam sistem. Variabel ini dapat berupa input, output, atau variabel internal.\n",
        "\n",
        "2. Fuzzifikasi: Proses mengubah data input yang memiliki nilai tegas menjadi nilai fuzzy yang direpresentasikan dalam derajat keanggotaan terhadap himpunan fuzzy. Setiap himpunan fuzzy mendefinisikan sebuah kelas atau kategori.\n",
        "\n",
        "3. Penerapan Aturan Fuzzy: Membuat aturan-aturan yang menggambarkan perilaku sistem berdasarkan variabel fuzzy. Aturan-aturan ini biasanya dalam bentuk: JIKA kondisi MAKA hasil.\n",
        "\n",
        "4. Inferensi Fuzzy: Proses untuk menentukan derajat keanggotaan dari output berdasarkan derajat keanggotaan dari input dan aturan fuzzy.\n",
        "\n",
        "5. Defuzzifikasi: Mengkonversi keluaran fuzzy yang diperoleh dari inferensi menjadi nilai tegas. Ada beberapa metode untuk defuzzifikasi seperti centroid, bisector, mean of maximum, smallest of maximum, dan largest of maximum."
      ],
      "metadata": {
        "id": "Xcb7n9_zIXbe"
      }
    },
    {
      "cell_type": "markdown",
      "source": [
        "Install Library :\n",
        "```\n",
        "pip install scikit-fuzzy\n",
        "```\n",
        "\n"
      ],
      "metadata": {
        "id": "_yurl8q7IrHt"
      }
    },
    {
      "cell_type": "code",
      "execution_count": null,
      "metadata": {
        "id": "ZpQONbZgIVKl"
      },
      "outputs": [],
      "source": [
        "import numpy as np\n",
        "import skfuzzy as fuzz\n",
        "from skfuzzy import control as ctrl\n",
        "\n",
        "# Langkah 1: Definisi Variabel\n",
        "suhu = ctrl.Antecedent(np.arange(20, 41, 1), 'suhu')\n",
        "kecepatan_kipas = ctrl.Consequent(np.arange(0, 101, 1), 'kecepatan_kipas')\n",
        "\n",
        "# Langkah 2: Fuzzifikasi\n",
        "suhu['dingin'] = fuzz.trimf(suhu.universe, [20, 20, 25])\n",
        "suhu['sejuk'] = fuzz.trimf(suhu.universe, [20, 25, 30])\n",
        "suhu['panas'] = fuzz.trimf(suhu.universe, [25, 30, 40])\n",
        "suhu['sangat panas'] = fuzz.trimf(suhu.universe, [30, 40, 40])\n",
        "\n",
        "kecepatan_kipas['lambat'] = fuzz.trimf(kecepatan_kipas.universe, [0, 0, 50])\n",
        "kecepatan_kipas['sedang'] = fuzz.trimf(kecepatan_kipas.universe, [25, 50, 75])\n",
        "kecepatan_kipas['cepat'] = fuzz.trimf(kecepatan_kipas.universe, [50, 100, 100])\n",
        "\n",
        "# Langkah 3: Aturan Fuzzy\n",
        "rule1 = ctrl.Rule(suhu['dingin'], kecepatan_kipas['lambat'])\n",
        "rule2 = ctrl.Rule(suhu['sejuk'], kecepatan_kipas['sedang'])\n",
        "rule3 = ctrl.Rule(suhu['panas'] | suhu['sangat panas'], kecepatan_kipas['cepat'])\n",
        "\n",
        "# Langkah 4: Sistem Kontrol\n",
        "kipas_ctrl = ctrl.ControlSystem([rule1, rule2, rule3])\n",
        "kipas = ctrl.ControlSystemSimulation(kipas_ctrl)\n",
        "\n",
        "# Menggunakan sistem\n",
        "kipas.input['suhu'] = 26\n",
        "kipas.compute()\n",
        "print(\"Kecepatan Kipas:\", kipas.output['kecepatan_kipas'])\n"
      ]
    }
  ]
}
