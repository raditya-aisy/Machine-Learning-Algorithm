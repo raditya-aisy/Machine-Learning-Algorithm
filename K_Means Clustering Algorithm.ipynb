{
  "nbformat": 4,
  "nbformat_minor": 0,
  "metadata": {
    "colab": {
      "provenance": [],
      "authorship_tag": "ABX9TyN6oWJ6NhjvWSDYrjmJpbK+",
      "include_colab_link": true
    },
    "kernelspec": {
      "name": "python3",
      "display_name": "Python 3"
    },
    "language_info": {
      "name": "python"
    }
  },
  "cells": [
    {
      "cell_type": "markdown",
      "metadata": {
        "id": "view-in-github",
        "colab_type": "text"
      },
      "source": [
        "<a href=\"https://colab.research.google.com/github/raditya-aisy/Machine-Learning-Algorithm/blob/main/K_Means%20Clustering%20Algorithm.ipynb\" target=\"_parent\"><img src=\"https://colab.research.google.com/assets/colab-badge.svg\" alt=\"Open In Colab\"/></a>"
      ]
    },
    {
      "cell_type": "code",
      "execution_count": null,
      "metadata": {
        "colab": {
          "base_uri": "https://localhost:8080/",
          "height": 619
        },
        "id": "i5UA5wuyqVis",
        "outputId": "7b341d77-ef1a-4ecb-eeb7-6a83cc7a8374"
      },
      "outputs": [
        {
          "output_type": "stream",
          "name": "stderr",
          "text": [
            "/usr/local/lib/python3.10/dist-packages/sklearn/cluster/_kmeans.py:870: FutureWarning: The default value of `n_init` will change from 10 to 'auto' in 1.4. Set the value of `n_init` explicitly to suppress the warning\n",
            "  warnings.warn(\n"
          ]
        },
        {
          "output_type": "display_data",
          "data": {
            "text/plain": [
              "<Figure size 800x600 with 1 Axes>"
            ],
            "image/png": "[encoded data removed]"
          },
          "metadata": {}
        }
      ],
      "source": [
        "from sklearn.cluster import KMeans\n",
        "import numpy as np\n",
        "import matplotlib.pyplot as plt\n",
        "\n",
        "# Contoh data nilai SNR\n",
        "SNR_values = np.array([5, 12, 8, 15, 3, 20, 25, 10, 6, 18, 2, 22])\n",
        "\n",
        "# Ubah bentuk array agar bisa diolah oleh KMeans\n",
        "SNR_values = SNR_values.reshape(-1, 1)\n",
        "\n",
        "# Inisialisasi KMeans dengan 3 kelompok\n",
        "kmeans = KMeans(n_clusters=3, random_state=0).fit(SNR_values)\n",
        "\n",
        "# Mendapatkan label kelompok untuk setiap nilai SNR\n",
        "labels = kmeans.labels_\n",
        "\n",
        "# Tampilkan grafik hasil clustering\n",
        "plt.figure(figsize=(8, 6))\n",
        "plt.scatter(range(len(SNR_values)), SNR_values, c=labels, cmap='viridis')\n",
        "plt.xlabel('Index')\n",
        "plt.ylabel('SNR Value')\n",
        "plt.title('K-Means Clustering Result')\n",
        "plt.show()"
      ]
    },
    {
      "cell_type": "code",
      "source": [
        "import numpy as np\n",
        "\n",
        "# Data SNR untuk setiap kendaraan (contoh)\n",
        "SNR_data = {\n",
        "    'Vehicle1': 20,\n",
        "    'Vehicle2': 15,\n",
        "    'Vehicle3': 25,\n",
        "    'Vehicle4': 18,\n",
        "    'Vehicle5': 10\n",
        "}\n",
        "\n",
        "# Jumlah sumber daya radio yang tersedia\n",
        "total_radio_resources = 10\n",
        "\n",
        "# Mengurutkan kendaraan berdasarkan nilai SNR secara descending\n",
        "sorted_vehicles = sorted(SNR_data.items(), key=lambda x: x[1], reverse=True)\n",
        "\n",
        "# Menghitung alokasi sumber daya radio berdasarkan SNR\n",
        "allocation = {}\n",
        "for vehicle, snr in sorted_vehicles:\n",
        "    allocation[vehicle] = min(total_radio_resources, 1)  # Mengalokasikan 1 unit sumber daya radio per kendaraan\n",
        "    total_radio_resources -= 1\n",
        "\n",
        "# Menampilkan hasil alokasi\n",
        "for vehicle, allocated_resources in allocation.items():\n",
        "    print(f\"{vehicle}: SNR={SNR_data[vehicle]}, Allocated Resources={allocated_resources}\")\n"
      ],
      "metadata": {
        "colab": {
          "base_uri": "https://localhost:8080/"
        },
        "id": "Wvm3bE1H-qwb",
        "outputId": "be7fdd5a-abda-47f8-e6b9-8bcbd08322ef"
      },
      "execution_count": null,
      "outputs": [
        {
          "output_type": "stream",
          "name": "stdout",
          "text": [
            "Vehicle3: SNR=25, Allocated Resources=1\n",
            "Vehicle1: SNR=20, Allocated Resources=1\n",
            "Vehicle4: SNR=18, Allocated Resources=1\n",
            "Vehicle2: SNR=15, Allocated Resources=1\n",
            "Vehicle5: SNR=10, Allocated Resources=1\n"
          ]
        }
      ]
    }
  ]
}