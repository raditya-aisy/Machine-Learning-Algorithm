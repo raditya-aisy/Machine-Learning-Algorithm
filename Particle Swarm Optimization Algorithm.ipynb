{
  "nbformat": 4,
  "nbformat_minor": 0,
  "metadata": {
    "colab": {
      "provenance": [],
      "authorship_tag": "ABX9TyNfZMr5Frhm75mkxjozCV/J",
      "include_colab_link": true
    },
    "kernelspec": {
      "name": "python3",
      "display_name": "Python 3"
    },
    "language_info": {
      "name": "python"
    }
  },
  "cells": [
    {
      "cell_type": "markdown",
      "metadata": {
        "id": "view-in-github",
        "colab_type": "text"
      },
      "source": [
        "<a href=\"https://colab.research.google.com/github/raditya-aisy/Machine-Learning-Algorithm/blob/main/Particle%20Swarm%20Optimization%20Algorithm.ipynb\" target=\"_parent\"><img src=\"https://colab.research.google.com/assets/colab-badge.svg\" alt=\"Open In Colab\"/></a>"
      ]
    },
    {
      "cell_type": "markdown",
      "source": [
        "\n",
        "#Pseudocode :\n",
        "```\n",
        "[x*] = PSO()\n",
        "P = Particle_Initialization();\n",
        "For i=1 to it_max\n",
        "   For each particle p in P do\n",
        "      fp = f(p);\n",
        "      If fp is better than f(pBest)\n",
        "            pBest = p;\n",
        "      end\n",
        "   end\n",
        "   gBest = best p in P;\n",
        "   For each particle p in P do\n",
        "        v = v + c1*rand*(pBest – p) + c2*rand*(gBest – p);\n",
        "        p = p + v;\n",
        "   end\n",
        "end\n",
        "```\n",
        "\n",
        "- Catetan 1 :\n",
        "inersia : membuat partikel begerak ke arah yang sama\n",
        "personal : membuat partikel bergerak kembali ke arah yang pernah dilalui atau lebih baik\n",
        "social : membuat partikel bergerak mengikuti yang lain\n",
        "\n",
        "- Catetan 2 :\n",
        "Parameter algoritma\n",
        "  - A : Populasi agen\n",
        "  - pi : Posisi agen ke-i dalam ruang solusi\n",
        "  - f : Fungsi tujuan\n",
        "  - vi : Kecepatan dari agen ai\n",
        "  - V(ai) : Lingkungan agen ai (tetap)\n",
        "\n",
        "\n",
        "Konsep neighborhood pada PSO tidak sama dengan yang digunakan pada pencarian meta-heuristik lainnya, karena pada PSO, neighborhood setiap partikel tidak pernah berubah (tetap)\n",
        "\n",
        "\n",
        "Case dalam V2V dari yang relate menurut ku :\n",
        "\n",
        "#Solusi 1 - Alokasi Daya Optimal:\n",
        "\n",
        "- Tujuan: Menentukan daya pancar optimal untuk setiap kendaraan agar memaksimalkan throughput komunikasi V2V dan meminimalkan interferensi.\n",
        "- Solusi: PSO dapat digunakan untuk mencari nilai daya optimal untuk setiap kendaraan dalam platoon, dengan mempertimbangkan SNR, SNIR, dan batasan daya yang tersedia.\n",
        "- Manfaat:\n",
        "  - Meningkatkan throughput komunikasi V2V.\n",
        "  - Mengurangi interferensi antar kendaraan.\n",
        "  - Menghemat penggunaan daya.\n",
        "\n",
        "#Solusi 2 - Pembentukan Platoon Optimal (Setelah di Clustering):\n",
        "\n",
        "- Tujuan: Membentuk platoon dengan mempertimbangkan jarak antar kendaraan, kualitas tautan, dan kebutuhan komunikasi.\n",
        "- Solusi: PSO dapat digunakan untuk mengelompokkan kendaraan ke dalam platoon berdasarkan kesamaan karakteristik dan kebutuhan komunikasi, sehingga memaksimalkan efisiensi dan stabilitas komunikasi V2V.\n",
        "- Manfaat:\n",
        "  - Meningkatkan throughput komunikasi V2V.\n",
        "  - Mengurangi interferensi antar kendaraan.\n",
        "  - Meningkatkan efisiensi penggunaan sumber daya radio.\n"
      ],
      "metadata": {
        "id": "Frxsnsn9L_di"
      }
    },
    {
      "cell_type": "code",
      "execution_count": null,
      "metadata": {
        "id": "LzV0PinjL5G9"
      },
      "outputs": [],
      "source": [
        "import random\n",
        "\n",
        "#fungsi fitness\n",
        "def fitness_function(x):\n",
        "  return x**2\n",
        "\n",
        "#fungsi rumus khas dari PSO\n",
        "def update_velocity(v, pbest, gbest, inertia, cognitive_factor, social_factor):\n",
        "  r1 = random.random()\n",
        "  r2 = random.random()\n",
        "  return inertia * v + cognitive_factor * r1 * (pbest - x) + social_factor * r2 * (gbest - x)\n",
        "\n",
        "#fungsi update posisi\n",
        "def update_position(x, v):\n",
        "  return x + v\n",
        "\n",
        "# Inisialisasi\n",
        "x = 0.5\n",
        "v = 0.1\n",
        "pbest = x\n",
        "gbest = x\n",
        "\n",
        "# Parameter\n",
        "inertia = 0.72\n",
        "cognitive_factor = 1.49\n",
        "social_factor = 1.49\n",
        "\n",
        "# Iterasi\n",
        "for _ in range(100):\n",
        "  # Update kecepatan\n",
        "  v = update_velocity(v, pbest, gbest, inertia, cognitive_factor, social_factor)\n",
        "\n",
        "  # Update posisi\n",
        "  x = update_position(x, v)\n",
        "\n",
        "  # Update pbest dan gbest\n",
        "  if fitness_function(x) < fitness_function(pbest):\n",
        "    pbest = x\n",
        "  if fitness_function(x) < fitness_function(gbest):\n",
        "    gbest = x\n",
        "\n",
        "# Hasil\n",
        "print(f\"Posisi akhir: {x}\")\n",
        "print(f\"Nilai fitness: {fitness_function(x)}\")\n"
      ]
    }
  ]
}