{
  "nbformat": 4,
  "nbformat_minor": 0,
  "metadata": {
    "colab": {
      "provenance": [],
      "authorship_tag": "ABX9TyPLeO9CRsdSXdpH77GI1ij0",
      "include_colab_link": true
    },
    "kernelspec": {
      "name": "python3",
      "display_name": "Python 3"
    },
    "language_info": {
      "name": "python"
    }
  },
  "cells": [
    {
      "cell_type": "markdown",
      "metadata": {
        "id": "view-in-github",
        "colab_type": "text"
      },
      "source": [
        "<a href=\"https://colab.research.google.com/github/raditya-aisy/Machine-Learning-Algorithm/blob/main/Genetic_Algorithm.ipynb\" target=\"_parent\"><img src=\"https://colab.research.google.com/assets/colab-badge.svg\" alt=\"Open In Colab\"/></a>"
      ]
    },
    {
      "cell_type": "code",
      "execution_count": null,
      "metadata": {
        "id": "kLWVffwMBeJk"
      },
      "outputs": [],
      "source": [
        "import random\n",
        "from deap import base, creator, tools, algorithms\n",
        "\n",
        "# Konfigurasi awal\n",
        "weights = [80, 55, 65, 90, 75]  # Berat setiap orang\n",
        "max_capacity = 200  # Kapasitas maksimum lift\n",
        "\n",
        "creator.create(\"FitnessMax\", base.Fitness, weights=(1.0,))\n",
        "creator.create(\"Individual\", list, fitness=creator.FitnessMax)\n",
        "\n",
        "toolbox = base.Toolbox()\n",
        "toolbox.register(\"attr_bool\", random.randint, 0, 1)\n",
        "toolbox.register(\"individual\", tools.initRepeat, creator.Individual, toolbox.attr_bool, len(weights))\n",
        "toolbox.register(\"population\", tools.initRepeat, list, toolbox.individual)\n",
        "\n",
        "def evaluate(individual):\n",
        "    total_weight = sum(w if ind else 0 for w, ind in zip(weights, individual))\n",
        "    if total_weight > max_capacity:\n",
        "        return (0,)  # Memberikan hukuman jika melebihi kapasitas\n",
        "    return (sum(individual),)  # Jumlah orang dalam lift\n",
        "\n",
        "toolbox.register(\"evaluate\", evaluate)\n",
        "toolbox.register(\"mate\", tools.cxTwoPoint)\n",
        "toolbox.register(\"mutate\", tools.mutFlipBit, indpb=0.05)\n",
        "toolbox.register(\"select\", tools.selTournament, tournsize=3)\n",
        "\n",
        "# Inisialisasi populasi dan jalankan algoritma genetik\n",
        "population = toolbox.population(n=50)\n",
        "result = algorithms.eaSimple(population, toolbox, cxpb=0.7, mutpb=0.2, ngen=100, verbose=False)\n",
        "\n",
        "# Hasil terbaik\n",
        "best_ind = tools.selBest(population, 1)[0]\n",
        "print(\"Best Group: \", best_ind)\n",
        "print(\"Number of People: \", sum(best_ind))\n",
        "print(\"Total Weight: \", sum(w if ind else 0 for w, ind in zip(weights, best_ind)))"
      ]
    }
  ]
}